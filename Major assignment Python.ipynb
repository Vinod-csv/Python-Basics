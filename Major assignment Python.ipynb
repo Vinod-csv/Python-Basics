{
 "cells": [
  {
   "cell_type": "code",
   "execution_count": 1,
   "metadata": {},
   "outputs": [
    {
     "name": "stdout",
     "output_type": "stream",
     "text": [
      "<class 'int'>\n",
      "<class 'str'>\n"
     ]
    }
   ],
   "source": [
    "#Q1) Find the datatype of these two declarations.\n",
    "x = 5\n",
    "y = \"John\"\n",
    "#using type function to get the data type of the variables\n",
    "print(type(x)) \n",
    "print(type(y))"
   ]
  },
  {
   "cell_type": "code",
   "execution_count": 5,
   "metadata": {},
   "outputs": [
    {
     "ename": "SyntaxError",
     "evalue": "invalid decimal literal (1528169825.py, line 3)",
     "output_type": "error",
     "traceback": [
      "\u001b[1;36m  Cell \u001b[1;32mIn[5], line 3\u001b[1;36m\u001b[0m\n\u001b[1;33m    3a=10\u001b[0m\n\u001b[1;37m    ^\u001b[0m\n\u001b[1;31mSyntaxError\u001b[0m\u001b[1;31m:\u001b[0m invalid decimal literal\n"
     ]
    }
   ],
   "source": [
    "#Q2) Check whether the following syntax is valid or invalid for naming a\n",
    "#   variable. ?\n",
    "3a=10\n",
    "print(3a)\n",
    "@abc = 10\n",
    "print(@abc)\n",
    "a100=100   #the following syntax is vali\n",
    "print(a100)\n",
    "_a984_=100  #the following syntax is vali\n",
    "print(_a984_)\n",
    "#a9967$=100\n",
    "#print(a9967)\n",
    "#xyz-2=100\n",
    "#print(xyz-2)"
   ]
  },
  {
   "cell_type": "code",
   "execution_count": 3,
   "metadata": {},
   "outputs": [
    {
     "name": "stdout",
     "output_type": "stream",
     "text": [
      "True\n",
      "False\n"
     ]
    }
   ],
   "source": [
    "#Q3) Check if an element exists in the list in Python.\n",
    "\n",
    "list = test_list = [1, 6, 3, 5, 3, 4]\n",
    "\n",
    " # 1. checking if 3 exists in the list, returns boolean value\n",
    "print(3 in list)  \n",
    " \n",
    " # 2. checking if 9 exists in the list, returns boolean value\n",
    "print(9 in list)\n"
   ]
  },
  {
   "cell_type": "code",
   "execution_count": 51,
   "metadata": {},
   "outputs": [
    {
     "name": "stdout",
     "output_type": "stream",
     "text": [
      "Current date is : 2023-11-21 00:00:00\n"
     ]
    }
   ],
   "source": [
    "#   Q4) Take the user input to print the current date?\n",
    "from datetime import datetime\n",
    "current_date=input(\"Enter current date in format YYYY-MM-DD\")\n",
    "current_date = datetime.strptime(current_date,\"%Y-%m-%d\")\n",
    "print(\"Current date is :\",current_date)\n"
   ]
  },
  {
   "cell_type": "code",
   "execution_count": 7,
   "metadata": {},
   "outputs": [
    {
     "name": "stdout",
     "output_type": "stream",
     "text": [
      "4\n"
     ]
    }
   ],
   "source": [
    "# Q5)a) What is the output of the following code?\n",
    "\n",
    "# //returns the quotient rounded to the left value\n",
    "print(9//2) "
   ]
  },
  {
   "cell_type": "code",
   "execution_count": 6,
   "metadata": {},
   "outputs": [
    {
     "name": "stdout",
     "output_type": "stream",
     "text": [
      "1\n"
     ]
    }
   ],
   "source": [
    "# Q5)b) What is the output of the following code?\n",
    "# % returns the remainder \n",
    "print(9%2)  "
   ]
  },
  {
   "cell_type": "code",
   "execution_count": 8,
   "metadata": {},
   "outputs": [
    {
     "name": "stdout",
     "output_type": "stream",
     "text": [
      "First 10 Natural numbers are :\n",
      "1\n",
      "2\n",
      "3\n",
      "4\n",
      "5\n",
      "6\n",
      "7\n",
      "8\n",
      "9\n",
      "10\n"
     ]
    }
   ],
   "source": [
    "# Q6) Print the First 10 Natural Numbers using a while loop.\n",
    "\n",
    "Natural_numbers = 1\n",
    "print('First 10 Natural numbers are :')\n",
    "while Natural_numbers<11:\n",
    "    print(Natural_numbers)\n",
    "    Natural_numbers+=1"
   ]
  },
  {
   "cell_type": "code",
   "execution_count": 10,
   "metadata": {},
   "outputs": [
    {
     "name": "stdout",
     "output_type": "stream",
     "text": [
      "Sum of all numbers from 1 to 122 is 7503\n"
     ]
    }
   ],
   "source": [
    "# Q7) Write a program to accept a number from a user and calculate\n",
    "# the sum of all numbers from 1 to a given number.\n",
    "\n",
    "end_number = int(input(\"Enter your number: \"))\n",
    "sum = 0\n",
    "for number in range(1, end_number + 1):\n",
    "    sum += number\n",
    "print(\"Sum of all numbers from 1 to\",end_number, 'is',sum)\n",
    "\n",
    "\n",
    "\n",
    "\n"
   ]
  },
  {
   "cell_type": "code",
   "execution_count": 14,
   "metadata": {},
   "outputs": [
    {
     "name": "stdout",
     "output_type": "stream",
     "text": [
      "FizzBuzz\n",
      "1\n",
      "2\n",
      "Fizz\n",
      "4\n",
      "Buzz\n",
      "Fizz\n",
      "7\n",
      "8\n",
      "Fizz\n",
      "Buzz\n",
      "11\n",
      "Fizz\n",
      "13\n",
      "14\n",
      "FizzBuzz\n",
      "16\n",
      "17\n",
      "Fizz\n",
      "19\n",
      "Buzz\n",
      "Fizz\n",
      "22\n",
      "23\n",
      "Fizz\n",
      "Buzz\n",
      "26\n",
      "Fizz\n",
      "28\n",
      "29\n",
      "FizzBuzz\n",
      "31\n",
      "32\n",
      "Fizz\n",
      "34\n",
      "Buzz\n",
      "Fizz\n",
      "37\n",
      "38\n",
      "Fizz\n",
      "Buzz\n",
      "41\n",
      "Fizz\n",
      "43\n",
      "44\n",
      "FizzBuzz\n",
      "46\n",
      "47\n",
      "Fizz\n",
      "49\n",
      "Buzz\n"
     ]
    }
   ],
   "source": [
    "\"\"\"Q8)Write a Python program that iterates the integers from 1 to 50. For\n",
    "multiples of three print \"Fizz\" instead of the number and for multiples\n",
    "of five print \"Buzz\". For numbers that are multiples of both three and\n",
    "five print \"FizzBuzz\"?\"\"\"\n",
    "\n",
    "for number in range(0,51):\n",
    "\n",
    "     #For numbers that are multiples of both three and five\n",
    "    if number%3 ==0 and number%5 == 0: \n",
    "        print(\"FizzBuzz\")\n",
    "        continue\n",
    "\n",
    "     # For multiples of three printing \"Fizz\"\n",
    "    if number%3 == 0:                                                                            \n",
    "        print(\"Fizz\")\n",
    "        continue\n",
    "\n",
    "     # for multiples of five printing \"Buzz\"\n",
    "    elif number%5 == 0:    \n",
    "        print(\"Buzz\")\n",
    "        continue\n",
    "    \n",
    "    print(number)\n",
    "      "
   ]
  }
 ],
 "metadata": {
  "kernelspec": {
   "display_name": "Python 3",
   "language": "python",
   "name": "python3"
  },
  "language_info": {
   "codemirror_mode": {
    "name": "ipython",
    "version": 3
   },
   "file_extension": ".py",
   "mimetype": "text/x-python",
   "name": "python",
   "nbconvert_exporter": "python",
   "pygments_lexer": "ipython3",
   "version": "3.11.6"
  }
 },
 "nbformat": 4,
 "nbformat_minor": 2
}
